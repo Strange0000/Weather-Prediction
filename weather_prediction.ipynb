{
 "cells": [
  {
   "cell_type": "markdown",
   "id": "d8c52736-e4bd-4f2b-9363-b588d908285d",
   "metadata": {},
   "source": [
    "#  importing request"
   ]
  },
  {
   "cell_type": "code",
   "execution_count": 108,
   "id": "026b8993-b815-45c0-bfbc-46c4fbc2a295",
   "metadata": {},
   "outputs": [],
   "source": [
    "import requests\n",
    "import pandas as pd\n",
    "import numpy as np\n",
    "import matplotlib.pyplot as pyp\n",
    "import seaborn as sns\n",
    "from sklearn.model_selection import train_test_split\n",
    "from sklearn.preprocessing import LabelEncoder\n",
    "from sklearn.ensemble import RandomForestClassifier ,RandomForestRegressor\n",
    "from sklearn.metrics import mean_squared_error\n",
    "from datetime import datetime , timedelta\n",
    "import pytz"
   ]
  },
  {
   "cell_type": "markdown",
   "id": "33cf833c-5077-4c08-9b1c-024d04abbe44",
   "metadata": {},
   "source": [
    "# using openweathermap "
   ]
  },
  {
   "cell_type": "code",
   "execution_count": 109,
   "id": "758d1c35-da26-414d-950c-44886e1db97a",
   "metadata": {},
   "outputs": [],
   "source": [
    "API_KEY=\"2496c8d59c15b86e2865bdfddad9ad67\"  # open_wearhermap_api\n",
    "BASE_URL=\"http://api.openweathermap.org/data/2.5/weather?q=\"# base url for making actual request"
   ]
  },
  {
   "cell_type": "markdown",
   "id": "c95e26e6-9a46-4238-9da8-add271293a70",
   "metadata": {},
   "source": [
    "# 1. Fetch Current Weather data"
   ]
  },
  {
   "cell_type": "code",
   "execution_count": 168,
   "id": "b089dc89-5fa3-4365-a6a3-38896193cd34",
   "metadata": {},
   "outputs": [],
   "source": [
    "def get_current_weather(city):\n",
    "    url = f\"http://api.openweathermap.org/data/2.5/weather?q={city}&appid=2496c8d59c15b86e2865bdfddad9ad67&units=metric\"\n",
    "\n",
    "    response = requests.get(url)\n",
    "    data = response.json()\n",
    "\n",
    "    # Check if the API returned an error\n",
    "    if response.status_code != 200 or 'name' not in data:\n",
    "        print(f\"API Error: {data.get('message', 'Unknown error')}\")\n",
    "        return None\n",
    "\n",
    "    return {\n",
    "        'city': data['name'],\n",
    "        'current_temp': round(data['main']['temp']),\n",
    "        'feels_like': round(data['main']['feels_like']),\n",
    "        'temp_min': round(data['main']['temp_min']),\n",
    "        'temp_max': round(data['main']['temp_max']),\n",
    "        'humidity': round(data['main']['humidity']),\n",
    "        'description': data['weather'][0]['description'],\n",
    "        'country': data['sys']['country'],\n",
    "        'wind_speed': data['wind']['speed'],\n",
    "        'WindGustDir': data['wind']['deg'],\n",
    "        'pressure': data['main']['pressure'],\n",
    "    }\n"
   ]
  },
  {
   "cell_type": "markdown",
   "id": "36c53a84-602f-423c-ba6c-f989064ea13c",
   "metadata": {},
   "source": [
    "# 2. Historical Data"
   ]
  },
  {
   "cell_type": "code",
   "execution_count": 111,
   "id": "97f7e104-16da-4efa-8eff-ca74ec1d8f39",
   "metadata": {},
   "outputs": [],
   "source": [
    "historical_data=pd.read_csv(\"weather.csv\")"
   ]
  },
  {
   "cell_type": "code",
   "execution_count": 112,
   "id": "1dfc05af-6081-4060-a96b-6a72af6b59ba",
   "metadata": {},
   "outputs": [
    {
     "data": {
      "text/html": [
       "<div>\n",
       "<style scoped>\n",
       "    .dataframe tbody tr th:only-of-type {\n",
       "        vertical-align: middle;\n",
       "    }\n",
       "\n",
       "    .dataframe tbody tr th {\n",
       "        vertical-align: top;\n",
       "    }\n",
       "\n",
       "    .dataframe thead th {\n",
       "        text-align: right;\n",
       "    }\n",
       "</style>\n",
       "<table border=\"1\" class=\"dataframe\">\n",
       "  <thead>\n",
       "    <tr style=\"text-align: right;\">\n",
       "      <th></th>\n",
       "      <th>MinTemp</th>\n",
       "      <th>MaxTemp</th>\n",
       "      <th>WindGustDir</th>\n",
       "      <th>WindGustSpeed</th>\n",
       "      <th>Humidity</th>\n",
       "      <th>Pressure</th>\n",
       "      <th>Temp</th>\n",
       "      <th>RainTomorrow</th>\n",
       "    </tr>\n",
       "  </thead>\n",
       "  <tbody>\n",
       "    <tr>\n",
       "      <th>0</th>\n",
       "      <td>8.0</td>\n",
       "      <td>24.3</td>\n",
       "      <td>NW</td>\n",
       "      <td>30.0</td>\n",
       "      <td>29</td>\n",
       "      <td>1015.0</td>\n",
       "      <td>23.6</td>\n",
       "      <td>Yes</td>\n",
       "    </tr>\n",
       "    <tr>\n",
       "      <th>1</th>\n",
       "      <td>14.0</td>\n",
       "      <td>26.9</td>\n",
       "      <td>ENE</td>\n",
       "      <td>39.0</td>\n",
       "      <td>36</td>\n",
       "      <td>1008.4</td>\n",
       "      <td>25.7</td>\n",
       "      <td>Yes</td>\n",
       "    </tr>\n",
       "    <tr>\n",
       "      <th>2</th>\n",
       "      <td>13.7</td>\n",
       "      <td>23.4</td>\n",
       "      <td>NW</td>\n",
       "      <td>85.0</td>\n",
       "      <td>69</td>\n",
       "      <td>1007.2</td>\n",
       "      <td>20.2</td>\n",
       "      <td>Yes</td>\n",
       "    </tr>\n",
       "    <tr>\n",
       "      <th>3</th>\n",
       "      <td>13.3</td>\n",
       "      <td>15.5</td>\n",
       "      <td>NW</td>\n",
       "      <td>54.0</td>\n",
       "      <td>56</td>\n",
       "      <td>1007.0</td>\n",
       "      <td>14.1</td>\n",
       "      <td>Yes</td>\n",
       "    </tr>\n",
       "    <tr>\n",
       "      <th>4</th>\n",
       "      <td>7.6</td>\n",
       "      <td>16.1</td>\n",
       "      <td>SSE</td>\n",
       "      <td>50.0</td>\n",
       "      <td>49</td>\n",
       "      <td>1018.5</td>\n",
       "      <td>15.4</td>\n",
       "      <td>No</td>\n",
       "    </tr>\n",
       "    <tr>\n",
       "      <th>...</th>\n",
       "      <td>...</td>\n",
       "      <td>...</td>\n",
       "      <td>...</td>\n",
       "      <td>...</td>\n",
       "      <td>...</td>\n",
       "      <td>...</td>\n",
       "      <td>...</td>\n",
       "      <td>...</td>\n",
       "    </tr>\n",
       "    <tr>\n",
       "      <th>361</th>\n",
       "      <td>9.0</td>\n",
       "      <td>30.7</td>\n",
       "      <td>NNW</td>\n",
       "      <td>76.0</td>\n",
       "      <td>15</td>\n",
       "      <td>1010.8</td>\n",
       "      <td>30.0</td>\n",
       "      <td>No</td>\n",
       "    </tr>\n",
       "    <tr>\n",
       "      <th>362</th>\n",
       "      <td>7.1</td>\n",
       "      <td>28.4</td>\n",
       "      <td>N</td>\n",
       "      <td>48.0</td>\n",
       "      <td>22</td>\n",
       "      <td>1016.9</td>\n",
       "      <td>28.2</td>\n",
       "      <td>No</td>\n",
       "    </tr>\n",
       "    <tr>\n",
       "      <th>363</th>\n",
       "      <td>12.5</td>\n",
       "      <td>19.9</td>\n",
       "      <td>ESE</td>\n",
       "      <td>43.0</td>\n",
       "      <td>47</td>\n",
       "      <td>1022.8</td>\n",
       "      <td>18.3</td>\n",
       "      <td>No</td>\n",
       "    </tr>\n",
       "    <tr>\n",
       "      <th>364</th>\n",
       "      <td>12.5</td>\n",
       "      <td>26.9</td>\n",
       "      <td>NW</td>\n",
       "      <td>46.0</td>\n",
       "      <td>39</td>\n",
       "      <td>1016.2</td>\n",
       "      <td>25.9</td>\n",
       "      <td>No</td>\n",
       "    </tr>\n",
       "    <tr>\n",
       "      <th>365</th>\n",
       "      <td>12.3</td>\n",
       "      <td>30.2</td>\n",
       "      <td>NW</td>\n",
       "      <td>78.0</td>\n",
       "      <td>13</td>\n",
       "      <td>1009.2</td>\n",
       "      <td>28.6</td>\n",
       "      <td>No</td>\n",
       "    </tr>\n",
       "  </tbody>\n",
       "</table>\n",
       "<p>366 rows × 8 columns</p>\n",
       "</div>"
      ],
      "text/plain": [
       "     MinTemp  MaxTemp WindGustDir  WindGustSpeed  Humidity  Pressure  Temp  \\\n",
       "0        8.0     24.3          NW           30.0        29    1015.0  23.6   \n",
       "1       14.0     26.9         ENE           39.0        36    1008.4  25.7   \n",
       "2       13.7     23.4          NW           85.0        69    1007.2  20.2   \n",
       "3       13.3     15.5          NW           54.0        56    1007.0  14.1   \n",
       "4        7.6     16.1         SSE           50.0        49    1018.5  15.4   \n",
       "..       ...      ...         ...            ...       ...       ...   ...   \n",
       "361      9.0     30.7         NNW           76.0        15    1010.8  30.0   \n",
       "362      7.1     28.4           N           48.0        22    1016.9  28.2   \n",
       "363     12.5     19.9         ESE           43.0        47    1022.8  18.3   \n",
       "364     12.5     26.9          NW           46.0        39    1016.2  25.9   \n",
       "365     12.3     30.2          NW           78.0        13    1009.2  28.6   \n",
       "\n",
       "    RainTomorrow  \n",
       "0            Yes  \n",
       "1            Yes  \n",
       "2            Yes  \n",
       "3            Yes  \n",
       "4             No  \n",
       "..           ...  \n",
       "361           No  \n",
       "362           No  \n",
       "363           No  \n",
       "364           No  \n",
       "365           No  \n",
       "\n",
       "[366 rows x 8 columns]"
      ]
     },
     "execution_count": 112,
     "metadata": {},
     "output_type": "execute_result"
    }
   ],
   "source": [
    "historical_data"
   ]
  },
  {
   "cell_type": "code",
   "execution_count": 113,
   "id": "684f8b8b-0b62-44b8-a4ed-5c3dbc7668db",
   "metadata": {},
   "outputs": [
    {
     "data": {
      "text/html": [
       "<div>\n",
       "<style scoped>\n",
       "    .dataframe tbody tr th:only-of-type {\n",
       "        vertical-align: middle;\n",
       "    }\n",
       "\n",
       "    .dataframe tbody tr th {\n",
       "        vertical-align: top;\n",
       "    }\n",
       "\n",
       "    .dataframe thead th {\n",
       "        text-align: right;\n",
       "    }\n",
       "</style>\n",
       "<table border=\"1\" class=\"dataframe\">\n",
       "  <thead>\n",
       "    <tr style=\"text-align: right;\">\n",
       "      <th></th>\n",
       "      <th>MinTemp</th>\n",
       "      <th>MaxTemp</th>\n",
       "      <th>WindGustDir</th>\n",
       "      <th>WindGustSpeed</th>\n",
       "      <th>Humidity</th>\n",
       "      <th>Pressure</th>\n",
       "      <th>Temp</th>\n",
       "      <th>RainTomorrow</th>\n",
       "    </tr>\n",
       "  </thead>\n",
       "  <tbody>\n",
       "    <tr>\n",
       "      <th>0</th>\n",
       "      <td>8.0</td>\n",
       "      <td>24.3</td>\n",
       "      <td>NW</td>\n",
       "      <td>30.0</td>\n",
       "      <td>29</td>\n",
       "      <td>1015.0</td>\n",
       "      <td>23.6</td>\n",
       "      <td>Yes</td>\n",
       "    </tr>\n",
       "    <tr>\n",
       "      <th>1</th>\n",
       "      <td>14.0</td>\n",
       "      <td>26.9</td>\n",
       "      <td>ENE</td>\n",
       "      <td>39.0</td>\n",
       "      <td>36</td>\n",
       "      <td>1008.4</td>\n",
       "      <td>25.7</td>\n",
       "      <td>Yes</td>\n",
       "    </tr>\n",
       "    <tr>\n",
       "      <th>2</th>\n",
       "      <td>13.7</td>\n",
       "      <td>23.4</td>\n",
       "      <td>NW</td>\n",
       "      <td>85.0</td>\n",
       "      <td>69</td>\n",
       "      <td>1007.2</td>\n",
       "      <td>20.2</td>\n",
       "      <td>Yes</td>\n",
       "    </tr>\n",
       "    <tr>\n",
       "      <th>3</th>\n",
       "      <td>13.3</td>\n",
       "      <td>15.5</td>\n",
       "      <td>NW</td>\n",
       "      <td>54.0</td>\n",
       "      <td>56</td>\n",
       "      <td>1007.0</td>\n",
       "      <td>14.1</td>\n",
       "      <td>Yes</td>\n",
       "    </tr>\n",
       "    <tr>\n",
       "      <th>4</th>\n",
       "      <td>7.6</td>\n",
       "      <td>16.1</td>\n",
       "      <td>SSE</td>\n",
       "      <td>50.0</td>\n",
       "      <td>49</td>\n",
       "      <td>1018.5</td>\n",
       "      <td>15.4</td>\n",
       "      <td>No</td>\n",
       "    </tr>\n",
       "  </tbody>\n",
       "</table>\n",
       "</div>"
      ],
      "text/plain": [
       "   MinTemp  MaxTemp WindGustDir  WindGustSpeed  Humidity  Pressure  Temp  \\\n",
       "0      8.0     24.3          NW           30.0        29    1015.0  23.6   \n",
       "1     14.0     26.9         ENE           39.0        36    1008.4  25.7   \n",
       "2     13.7     23.4          NW           85.0        69    1007.2  20.2   \n",
       "3     13.3     15.5          NW           54.0        56    1007.0  14.1   \n",
       "4      7.6     16.1         SSE           50.0        49    1018.5  15.4   \n",
       "\n",
       "  RainTomorrow  \n",
       "0          Yes  \n",
       "1          Yes  \n",
       "2          Yes  \n",
       "3          Yes  \n",
       "4           No  "
      ]
     },
     "execution_count": 113,
     "metadata": {},
     "output_type": "execute_result"
    }
   ],
   "source": [
    "historical_data.head()"
   ]
  },
  {
   "cell_type": "code",
   "execution_count": 114,
   "id": "f5ff9465-91e9-4a33-9f7d-d62f998424f7",
   "metadata": {},
   "outputs": [
    {
     "data": {
      "text/plain": [
       "2928"
      ]
     },
     "execution_count": 114,
     "metadata": {},
     "output_type": "execute_result"
    }
   ],
   "source": [
    "historical_data.size"
   ]
  },
  {
   "cell_type": "code",
   "execution_count": 115,
   "id": "53f1f689-6730-4498-a5d9-41936e1f8c35",
   "metadata": {},
   "outputs": [
    {
     "data": {
      "text/plain": [
       "(366, 8)"
      ]
     },
     "execution_count": 115,
     "metadata": {},
     "output_type": "execute_result"
    }
   ],
   "source": [
    "historical_data.shape"
   ]
  },
  {
   "cell_type": "code",
   "execution_count": 116,
   "id": "b44dfaed-ce5d-4fc1-99a7-4ff244cf05c3",
   "metadata": {},
   "outputs": [
    {
     "data": {
      "text/plain": [
       "MinTemp          0\n",
       "MaxTemp          0\n",
       "WindGustDir      3\n",
       "WindGustSpeed    2\n",
       "Humidity         0\n",
       "Pressure         0\n",
       "Temp             0\n",
       "RainTomorrow     0\n",
       "dtype: int64"
      ]
     },
     "execution_count": 116,
     "metadata": {},
     "output_type": "execute_result"
    }
   ],
   "source": [
    "historical_data.isnull().sum()"
   ]
  },
  {
   "cell_type": "code",
   "execution_count": 117,
   "id": "ba96b19d-dbbc-46fc-8a9e-e6bbe2352fa0",
   "metadata": {},
   "outputs": [],
   "source": [
    "historical_data=historical_data.dropna()"
   ]
  },
  {
   "cell_type": "code",
   "execution_count": 118,
   "id": "ae4442bf-37f8-44fd-89a3-146b8cb2746d",
   "metadata": {},
   "outputs": [
    {
     "name": "stderr",
     "output_type": "stream",
     "text": [
      "C:\\Users\\Strange\\AppData\\Local\\Temp\\ipykernel_8028\\4097610674.py:1: SettingWithCopyWarning: \n",
      "A value is trying to be set on a copy of a slice from a DataFrame\n",
      "\n",
      "See the caveats in the documentation: https://pandas.pydata.org/pandas-docs/stable/user_guide/indexing.html#returning-a-view-versus-a-copy\n",
      "  historical_data.drop_duplicates(inplace=True)\n"
     ]
    }
   ],
   "source": [
    "historical_data.drop_duplicates(inplace=True)"
   ]
  },
  {
   "cell_type": "code",
   "execution_count": 119,
   "id": "1b15482a-8bfb-47e9-a5fe-29ff6ec9be2c",
   "metadata": {},
   "outputs": [
    {
     "data": {
      "text/html": [
       "<div>\n",
       "<style scoped>\n",
       "    .dataframe tbody tr th:only-of-type {\n",
       "        vertical-align: middle;\n",
       "    }\n",
       "\n",
       "    .dataframe tbody tr th {\n",
       "        vertical-align: top;\n",
       "    }\n",
       "\n",
       "    .dataframe thead th {\n",
       "        text-align: right;\n",
       "    }\n",
       "</style>\n",
       "<table border=\"1\" class=\"dataframe\">\n",
       "  <thead>\n",
       "    <tr style=\"text-align: right;\">\n",
       "      <th></th>\n",
       "      <th>MinTemp</th>\n",
       "      <th>MaxTemp</th>\n",
       "      <th>WindGustSpeed</th>\n",
       "      <th>Humidity</th>\n",
       "      <th>Pressure</th>\n",
       "      <th>Temp</th>\n",
       "    </tr>\n",
       "  </thead>\n",
       "  <tbody>\n",
       "    <tr>\n",
       "      <th>MinTemp</th>\n",
       "      <td>1.000000</td>\n",
       "      <td>0.752368</td>\n",
       "      <td>0.219670</td>\n",
       "      <td>-0.039926</td>\n",
       "      <td>-0.496746</td>\n",
       "      <td>0.722580</td>\n",
       "    </tr>\n",
       "    <tr>\n",
       "      <th>MaxTemp</th>\n",
       "      <td>0.752368</td>\n",
       "      <td>1.000000</td>\n",
       "      <td>0.109210</td>\n",
       "      <td>-0.533594</td>\n",
       "      <td>-0.379980</td>\n",
       "      <td>0.989255</td>\n",
       "    </tr>\n",
       "    <tr>\n",
       "      <th>WindGustSpeed</th>\n",
       "      <td>0.219670</td>\n",
       "      <td>0.109210</td>\n",
       "      <td>1.000000</td>\n",
       "      <td>-0.069087</td>\n",
       "      <td>-0.526344</td>\n",
       "      <td>0.072418</td>\n",
       "    </tr>\n",
       "    <tr>\n",
       "      <th>Humidity</th>\n",
       "      <td>-0.039926</td>\n",
       "      <td>-0.533594</td>\n",
       "      <td>-0.069087</td>\n",
       "      <td>1.000000</td>\n",
       "      <td>-0.010776</td>\n",
       "      <td>-0.582014</td>\n",
       "    </tr>\n",
       "    <tr>\n",
       "      <th>Pressure</th>\n",
       "      <td>-0.496746</td>\n",
       "      <td>-0.379980</td>\n",
       "      <td>-0.526344</td>\n",
       "      <td>-0.010776</td>\n",
       "      <td>1.000000</td>\n",
       "      <td>-0.346464</td>\n",
       "    </tr>\n",
       "    <tr>\n",
       "      <th>Temp</th>\n",
       "      <td>0.722580</td>\n",
       "      <td>0.989255</td>\n",
       "      <td>0.072418</td>\n",
       "      <td>-0.582014</td>\n",
       "      <td>-0.346464</td>\n",
       "      <td>1.000000</td>\n",
       "    </tr>\n",
       "  </tbody>\n",
       "</table>\n",
       "</div>"
      ],
      "text/plain": [
       "                MinTemp   MaxTemp  WindGustSpeed  Humidity  Pressure      Temp\n",
       "MinTemp        1.000000  0.752368       0.219670 -0.039926 -0.496746  0.722580\n",
       "MaxTemp        0.752368  1.000000       0.109210 -0.533594 -0.379980  0.989255\n",
       "WindGustSpeed  0.219670  0.109210       1.000000 -0.069087 -0.526344  0.072418\n",
       "Humidity      -0.039926 -0.533594      -0.069087  1.000000 -0.010776 -0.582014\n",
       "Pressure      -0.496746 -0.379980      -0.526344 -0.010776  1.000000 -0.346464\n",
       "Temp           0.722580  0.989255       0.072418 -0.582014 -0.346464  1.000000"
      ]
     },
     "execution_count": 119,
     "metadata": {},
     "output_type": "execute_result"
    }
   ],
   "source": [
    "historical_data.corr(numeric_only=True)"
   ]
  },
  {
   "cell_type": "code",
   "execution_count": 120,
   "id": "71e7a23c-4ef8-4892-9301-dceb248ab2cf",
   "metadata": {},
   "outputs": [],
   "source": [
    "def read_historical_data(filename):\n",
    "    df=pd.read_csv(filename)\n",
    "    df=df.dropna()\n",
    "    df=df.drop_duplicates()\n",
    "    return df"
   ]
  },
  {
   "cell_type": "markdown",
   "id": "ede457a3-807e-4452-a7c5-fc7830ab0704",
   "metadata": {},
   "source": [
    "# 3. Prepare Data for learning"
   ]
  },
  {
   "cell_type": "code",
   "execution_count": 121,
   "id": "322347b5-c626-4776-abbd-f10d58e2db0c",
   "metadata": {},
   "outputs": [],
   "source": [
    "from sklearn.preprocessing import LabelEncoder\n",
    "\n",
    "def prepare_data(data):\n",
    "    le = LabelEncoder()\n",
    "    \n",
    "    # Encode categorical variables\n",
    "    data['WindGustDir'] = le.fit_transform(data['WindGustDir'])\n",
    "    data['RainTomorrow'] = le.fit_transform(data['RainTomorrow'])\n",
    "\n",
    "    # Define features and target\n",
    "    x = data[['MinTemp', 'MaxTemp', 'WindGustDir', 'WindGustSpeed', 'Humidity', 'Pressure', 'Temp']]\n",
    "    y = data['RainTomorrow']\n",
    "    \n",
    "    return x, y, le\n"
   ]
  },
  {
   "cell_type": "markdown",
   "id": "d4f7ecd3-b09c-491e-837f-e5c7cde20783",
   "metadata": {},
   "source": [
    "# 4. Train Rain prediction model"
   ]
  },
  {
   "cell_type": "code",
   "execution_count": 131,
   "id": "97f8c056-b85c-40ac-8f24-ead2b26397f4",
   "metadata": {},
   "outputs": [],
   "source": [
    "def train_rain_model(x,y):\n",
    "    x_train, x_test, y_train, y_test = train_test_split(x, y, test_size=0.2, random_state=42)\n",
    "    model = RandomForestClassifier(n_estimators=100, random_state=42)\n",
    "    model.fit(x_train , y_train)\n",
    "\n",
    "    y_pred=model.predict(x_test)\n",
    "\n",
    "    print(\"Min Square error for Rain model\")\n",
    "\n",
    "    print(mean_squared_error(y_test , y_pred))\n",
    "\n",
    "    return model"
   ]
  },
  {
   "cell_type": "markdown",
   "id": "c4ef7110-14c4-47a8-908f-7136218f254f",
   "metadata": {},
   "source": [
    "# 4. Prepare regrission data"
   ]
  },
  {
   "cell_type": "code",
   "execution_count": 141,
   "id": "a803af7d-cce3-4d92-bb03-77ed709d3af4",
   "metadata": {},
   "outputs": [],
   "source": [
    "def prepare_regrission_data(data , features):\n",
    "    x,y =[],[] # initaialize list for features and target values\n",
    "\n",
    "    for i in range (len(data) -1):\n",
    "        x.append(data[features].iloc[i])    # present \n",
    "        y.append(data[features].iloc[i+1])    # future\n",
    "\n",
    "    x=np.array(x).reshape(-1,1)\n",
    "    y=np.array(y)\n",
    "\n",
    "    return x , y "
   ]
  },
  {
   "cell_type": "markdown",
   "id": "2d699991-0d13-4e28-adf6-34c1cc39c3b8",
   "metadata": {},
   "source": [
    "# Train regrission Model"
   ]
  },
  {
   "cell_type": "code",
   "execution_count": 124,
   "id": "fefe3416-41b9-4cc5-9907-6e4804c64656",
   "metadata": {},
   "outputs": [],
   "source": [
    "def train_regrission_model(x,y):\n",
    "    model=RandomForestRegressor(n_estimators=100, random_state=42)\n",
    "    model.fit(x,y)\n",
    "    return model"
   ]
  },
  {
   "cell_type": "markdown",
   "id": "d1fffbfd-0477-4f9d-9fa7-55115e1cf410",
   "metadata": {},
   "source": [
    "# Predict feature"
   ]
  },
  {
   "cell_type": "code",
   "execution_count": 158,
   "id": "ff3fc868-bc4a-4a68-ab22-e43c87a5f2bd",
   "metadata": {},
   "outputs": [],
   "source": [
    "def prdict_feature(model , current_value):\n",
    "    prediction = [current_value]\n",
    "\n",
    "    for i in range(5):\n",
    "        next_value = model.predict(np.array([[prediction[-1]]])) \n",
    "        prediction.append(next_value[0])\n",
    "        \n",
    "    return prediction[1:]   "
   ]
  },
  {
   "cell_type": "markdown",
   "id": "a2b53fd3-99ac-4719-8624-1c73949a13a0",
   "metadata": {},
   "source": [
    "# Weather Analsis Function"
   ]
  },
  {
   "cell_type": "code",
   "execution_count": 169,
   "id": "57e064ec-36a0-41f2-87e6-70b4d76fc531",
   "metadata": {},
   "outputs": [
    {
     "name": "stdin",
     "output_type": "stream",
     "text": [
      "Enter any city name:  Guwahati\n"
     ]
    },
    {
     "name": "stdout",
     "output_type": "stream",
     "text": [
      "Min Square error for Rain model\n",
      "0.1506849315068493\n",
      "\n",
      "City: Guwahati, IN\n",
      "Current Temperature: 25°C\n",
      "Feels Like: 25°C\n",
      "Maximum Temperature: 25°C\n",
      "Minimum Temperature: 25°C\n",
      "Humidity: 83%\n",
      "Weather Description: Clear Sky\n",
      "Rain Prediction: Yes\n",
      "\n",
      "Future Temperature Prediction:\n",
      "02:00: 26.7°C\n",
      "03:00: 24.4°C\n",
      "04:00: 24.4°C\n",
      "05:00: 24.4°C\n",
      "06:00: 24.4°C\n",
      "\n",
      "Future Humidity Prediction:\n",
      "02:00: 33.1%\n",
      "03:00: 25.1%\n",
      "04:00: 20.1%\n",
      "05:00: 16.6%\n",
      "06:00: 14.4%\n"
     ]
    }
   ],
   "source": [
    "def weather_view():\n",
    "    city = input('Enter any city name: ')\n",
    "    current_weather = get_current_weather(city)\n",
    "\n",
    "    if current_weather is None:\n",
    "        print(\"Could not fetch weather data.\")\n",
    "        return\n",
    "\n",
    "    # Load historical data\n",
    "    historical_data = read_historical_data(\"C:\\\\Users\\\\Strange\\\\Documents\\\\data sc\\\\projects ml\\\\waether prediction\\\\weather prediction ml\\\\weather.csv\")\n",
    "\n",
    "    # Prepare and train rain prediction model\n",
    "    x, y, le = prepare_data(historical_data)\n",
    "    rain_model = train_rain_model(x, y)\n",
    "\n",
    "    # Map wind direction to compass points\n",
    "    wind_deg=current_weather['WindGustDir'] % 360\n",
    "    compass_points = [\n",
    "        ('N', 348.75, 360.0), ('N', 0.0, 11.25),\n",
    "        ('NNE', 11.25, 33.75), ('NE', 33.75, 56.25),\n",
    "        ('ENE', 56.25, 78.75), ('E', 78.75, 101.25),\n",
    "        ('ESE', 101.25, 123.75), ('SE', 123.75, 146.25),\n",
    "        ('SSE', 146.25, 168.75), ('S', 168.75, 191.25),\n",
    "        ('SSW', 191.25, 213.75), ('SW', 213.75, 236.25),\n",
    "        ('WSW', 236.25, 258.75), ('W', 258.75, 281.25),\n",
    "        ('WNW', 281.25, 303.75), ('NW', 303.75, 326.25),\n",
    "        ('NNW', 326.25, 348.75)\n",
    "    ]\n",
    "\n",
    "    compass_direction = next(label for label, start, end in compass_points if start <= wind_deg < end)\n",
    "    compass_direction_encoded = le.transform([compass_direction])[0] if compass_direction in le.classes_ else -1\n",
    "\n",
    "    current_data = {\n",
    "        'MinTemp': current_weather['temp_min'],\n",
    "        'MaxTemp': current_weather['temp_max'],\n",
    "        'WindGustDir': compass_direction_encoded,\n",
    "        'WindGustSpeed': current_weather['wind_speed'],\n",
    "        'Humidity': current_weather['humidity'],\n",
    "        'Pressure': current_weather['pressure'],\n",
    "        'Temp': current_weather['current_temp'],\n",
    "    }\n",
    "\n",
    "    current_df = pd.DataFrame([current_data])\n",
    "\n",
    "    # Rain prediction\n",
    "    rain_prediction = rain_model.predict(current_df)[0]\n",
    "\n",
    "    # Prepare regression models\n",
    "    x_temp, y_temp = prepare_regrission_data(historical_data, 'Temp')\n",
    "    x_hum, y_hum = prepare_regrission_data(historical_data, 'Humidity')\n",
    "\n",
    "    temp_model = train_regrission_model(x_temp, y_temp)\n",
    "    hum_model = train_regrission_model(x_hum, y_hum)\n",
    "\n",
    "    # Predict future values\n",
    "    future_temp=prdict_feature(temp_model , current_weather['temp_min'])\n",
    "    future_humidity=prdict_feature(temp_model , current_weather['humidity'])\n",
    "\n",
    "    # Time setup\n",
    "    timezone = pytz.timezone('Asia/Kolkata')  # More specific\n",
    "    now = datetime.now(timezone)\n",
    "    next_hour = now.replace(minute=0, second=0, microsecond=0)\n",
    "    future_time = [(next_hour + timedelta(hours=i)).strftime(\"%H:00\") for i in range(5)]\n",
    "\n",
    "    # Display results\n",
    "    print(f'\\nCity: {city}, {current_weather[\"country\"]}')\n",
    "    print(f'Current Temperature: {current_weather[\"current_temp\"]}°C')\n",
    "    print(f'Feels Like: {current_weather[\"feels_like\"]}°C')\n",
    "    print(f'Maximum Temperature: {current_weather[\"temp_max\"]}°C')\n",
    "    print(f'Minimum Temperature: {current_weather[\"temp_min\"]}°C')\n",
    "    print(f'Humidity: {current_weather[\"humidity\"]}%')\n",
    "    print(f'Weather Description: {current_weather[\"description\"].title()}')\n",
    "    print(f'Rain Prediction: {\"Yes\" if rain_prediction else \"No\"}')\n",
    "\n",
    "    print(\"\\nFuture Temperature Prediction:\")\n",
    "    for time, temp in zip(future_time, future_temp):\n",
    "        print(f'{time}: {round(temp, 1)}°C')\n",
    "\n",
    "    print(\"\\nFuture Humidity Prediction:\")\n",
    "    for time, humidity in zip(future_time, future_humidity):\n",
    "        print(f'{time}: {round(humidity, 1)}%')\n",
    "\n",
    "# Call the function\n",
    "weather_view()\n"
   ]
  },
  {
   "cell_type": "code",
   "execution_count": null,
   "id": "dbe80568-5161-4454-a553-8cd6703a7cf0",
   "metadata": {},
   "outputs": [],
   "source": []
  },
  {
   "cell_type": "code",
   "execution_count": null,
   "id": "61d9146e-c29f-43ac-86f9-393808d367c9",
   "metadata": {},
   "outputs": [],
   "source": []
  },
  {
   "cell_type": "code",
   "execution_count": null,
   "id": "2ceb02b5-4d86-457c-84fc-7391d64f6a90",
   "metadata": {},
   "outputs": [],
   "source": []
  },
  {
   "cell_type": "code",
   "execution_count": null,
   "id": "7cf9c581-e418-478b-acfd-9351867f7a8c",
   "metadata": {},
   "outputs": [],
   "source": []
  },
  {
   "cell_type": "code",
   "execution_count": null,
   "id": "83609679-f82d-4ebf-adbc-e467ba0538b9",
   "metadata": {},
   "outputs": [],
   "source": []
  },
  {
   "cell_type": "code",
   "execution_count": null,
   "id": "71964513-7118-440c-8756-7b07b449679c",
   "metadata": {},
   "outputs": [],
   "source": []
  },
  {
   "cell_type": "code",
   "execution_count": null,
   "id": "54cf6c25-03d5-4232-8173-476ddc89ef4e",
   "metadata": {},
   "outputs": [],
   "source": []
  },
  {
   "cell_type": "code",
   "execution_count": null,
   "id": "5de93e8c-9053-4df9-bdb6-374ff1fc2d12",
   "metadata": {},
   "outputs": [],
   "source": []
  },
  {
   "cell_type": "code",
   "execution_count": null,
   "id": "e7dc7381-429d-4871-b928-92352c550905",
   "metadata": {},
   "outputs": [],
   "source": []
  },
  {
   "cell_type": "code",
   "execution_count": null,
   "id": "081977eb-e0fd-4637-aba6-78206fae8714",
   "metadata": {},
   "outputs": [],
   "source": []
  },
  {
   "cell_type": "code",
   "execution_count": null,
   "id": "5f860477-f7ce-416c-85bb-faf9d1159948",
   "metadata": {},
   "outputs": [],
   "source": []
  },
  {
   "cell_type": "code",
   "execution_count": null,
   "id": "e0b116ad-137c-4d56-96ba-1ac3696fa7ea",
   "metadata": {},
   "outputs": [],
   "source": []
  },
  {
   "cell_type": "code",
   "execution_count": null,
   "id": "c6d2f638-6fd1-408a-90a5-4247e184fe06",
   "metadata": {},
   "outputs": [],
   "source": []
  },
  {
   "cell_type": "code",
   "execution_count": null,
   "id": "dd421ba9-9b88-4317-8d3f-adbd307ecf23",
   "metadata": {},
   "outputs": [],
   "source": []
  }
 ],
 "metadata": {
  "kernelspec": {
   "display_name": "Python 3 (ipykernel)",
   "language": "python",
   "name": "python3"
  },
  "language_info": {
   "codemirror_mode": {
    "name": "ipython",
    "version": 3
   },
   "file_extension": ".py",
   "mimetype": "text/x-python",
   "name": "python",
   "nbconvert_exporter": "python",
   "pygments_lexer": "ipython3",
   "version": "3.12.7"
  }
 },
 "nbformat": 4,
 "nbformat_minor": 5
}
